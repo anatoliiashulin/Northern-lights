{
 "cells": [
  {
   "cell_type": "code",
   "execution_count": 1,
   "metadata": {},
   "outputs": [],
   "source": [
    "import pandas as pd\n",
    "import numpy as np\n",
    "\n",
    "from sklearn.model_selection import train_test_split\n",
    "from keras.layers import Dense, SimpleRNN, Input, Dropout\n",
    "from keras.models import Sequential\n",
    "from keras.metrics import RootMeanSquaredError\n",
    "from keras.optimizers import Adam\n",
    "\n",
    "import mlflow\n",
    "import mlflow.keras"
   ]
  },
  {
   "cell_type": "code",
   "execution_count": 2,
   "metadata": {},
   "outputs": [],
   "source": [
    "df = pd.read_csv('../data/update/data_update.csv', index_col=0)\n",
    "df.index = pd.to_datetime(df.index)"
   ]
  },
  {
   "cell_type": "code",
   "execution_count": 3,
   "metadata": {},
   "outputs": [],
   "source": [
    "inp_chars = 15\n",
    "n = df.shape[0] - inp_chars\n",
    "\n",
    "X = np.array([df[i:i+inp_chars] for i in range(n)])\n",
    "y = df.iloc[inp_chars: ,0].to_numpy()"
   ]
  },
  {
   "cell_type": "code",
   "execution_count": 4,
   "metadata": {},
   "outputs": [],
   "source": [
    "\n",
    "X_train, X_test, y_train, y_test = train_test_split(X, y, shuffle=False, test_size=0.3)"
   ]
  },
  {
   "cell_type": "code",
   "execution_count": 5,
   "metadata": {},
   "outputs": [
    {
     "name": "stdout",
     "output_type": "stream",
     "text": [
      "Model: \"sequential\"\n",
      "_________________________________________________________________\n",
      " Layer (type)                Output Shape              Param #   \n",
      "=================================================================\n",
      " simple_rnn (SimpleRNN)      (None, 128)               16640     \n",
      "                                                                 \n",
      " dropout (Dropout)           (None, 128)               0         \n",
      "                                                                 \n",
      " dense (Dense)               (None, 128)               16512     \n",
      "                                                                 \n",
      " dense_1 (Dense)             (None, 64)                8256      \n",
      "                                                                 \n",
      " dense_2 (Dense)             (None, 1)                 65        \n",
      "                                                                 \n",
      "=================================================================\n",
      "Total params: 41473 (162.00 KB)\n",
      "Trainable params: 41473 (162.00 KB)\n",
      "Non-trainable params: 0 (0.00 Byte)\n",
      "_________________________________________________________________\n"
     ]
    }
   ],
   "source": [
    "model = Sequential()\n",
    "model.add(Input((inp_chars, 1)))\n",
    "model.add(SimpleRNN(128, activation='relu'))\n",
    "model.add(Dropout(0.1))\n",
    "model.add(Dense(128, activation='relu'))\n",
    "model.add(Dense(64, activation='relu'))\n",
    "model.add(Dense(1, activation='relu'))\n",
    "model.summary()"
   ]
  },
  {
   "cell_type": "code",
   "execution_count": 6,
   "metadata": {},
   "outputs": [],
   "source": [
    "model.compile(optimizer='adam', loss='mse', metrics=[RootMeanSquaredError()])"
   ]
  },
  {
   "cell_type": "code",
   "execution_count": 7,
   "metadata": {},
   "outputs": [
    {
     "name": "stderr",
     "output_type": "stream",
     "text": [
      "2023/10/24 13:28:50 WARNING mlflow.utils.autologging_utils: You are using an unsupported version of tensorflow. If you encounter errors during autologging, try upgrading / downgrading tensorflow to a supported version, or try upgrading MLflow.\n"
     ]
    },
    {
     "name": "stdout",
     "output_type": "stream",
     "text": [
      "Epoch 1/15\n",
      "   1/2934 [..............................] - ETA: 1:26:17 - loss: 6.1268 - root_mean_squared_error: 2.4752WARNING:tensorflow:Callback method `on_train_batch_end` is slow compared to the batch time (batch time: 0.0076s vs `on_train_batch_end` time: 0.0087s). Check your callbacks.\n",
      "2934/2934 [==============================] - 33s 11ms/step - loss: 0.8043 - root_mean_squared_error: 0.8968 - val_loss: 0.6439 - val_root_mean_squared_error: 0.8024\n",
      "Epoch 2/15\n",
      "2934/2934 [==============================] - 32s 11ms/step - loss: 0.7888 - root_mean_squared_error: 0.8882 - val_loss: 0.6464 - val_root_mean_squared_error: 0.8040\n",
      "Epoch 3/15\n",
      "2934/2934 [==============================] - 30s 10ms/step - loss: 0.7854 - root_mean_squared_error: 0.8862 - val_loss: 0.6540 - val_root_mean_squared_error: 0.8087\n",
      "Epoch 4/15\n",
      "2934/2934 [==============================] - 28s 9ms/step - loss: 0.7821 - root_mean_squared_error: 0.8844 - val_loss: 0.6522 - val_root_mean_squared_error: 0.8076\n",
      "Epoch 5/15\n",
      "2934/2934 [==============================] - 27s 9ms/step - loss: 0.7803 - root_mean_squared_error: 0.8834 - val_loss: 0.6524 - val_root_mean_squared_error: 0.8077\n",
      "Epoch 6/15\n",
      "2934/2934 [==============================] - 28s 9ms/step - loss: 0.7794 - root_mean_squared_error: 0.8828 - val_loss: 0.6567 - val_root_mean_squared_error: 0.8104\n",
      "Epoch 7/15\n",
      "2934/2934 [==============================] - 25s 8ms/step - loss: 0.7785 - root_mean_squared_error: 0.8823 - val_loss: 0.6541 - val_root_mean_squared_error: 0.8088\n",
      "Epoch 8/15\n",
      "2934/2934 [==============================] - 26s 9ms/step - loss: 0.7774 - root_mean_squared_error: 0.8817 - val_loss: 0.6543 - val_root_mean_squared_error: 0.8089\n",
      "Epoch 9/15\n",
      "2934/2934 [==============================] - 28s 10ms/step - loss: 0.7775 - root_mean_squared_error: 0.8818 - val_loss: 0.6551 - val_root_mean_squared_error: 0.8094\n",
      "Epoch 10/15\n",
      "2934/2934 [==============================] - 27s 9ms/step - loss: 0.7768 - root_mean_squared_error: 0.8814 - val_loss: 0.6528 - val_root_mean_squared_error: 0.8080\n",
      "Epoch 11/15\n",
      "2934/2934 [==============================] - 29s 10ms/step - loss: 0.7766 - root_mean_squared_error: 0.8813 - val_loss: 0.6519 - val_root_mean_squared_error: 0.8074\n",
      "Epoch 12/15\n",
      "2934/2934 [==============================] - 28s 9ms/step - loss: 0.7762 - root_mean_squared_error: 0.8810 - val_loss: 0.6515 - val_root_mean_squared_error: 0.8071\n",
      "Epoch 13/15\n",
      "2934/2934 [==============================] - 27s 9ms/step - loss: 0.7760 - root_mean_squared_error: 0.8809 - val_loss: 0.6499 - val_root_mean_squared_error: 0.8062\n",
      "Epoch 14/15\n",
      "2934/2934 [==============================] - 28s 10ms/step - loss: 0.7761 - root_mean_squared_error: 0.8810 - val_loss: 0.6528 - val_root_mean_squared_error: 0.8080\n",
      "Epoch 15/15\n",
      "2934/2934 [==============================] - 25s 9ms/step - loss: 0.7758 - root_mean_squared_error: 0.8808 - val_loss: 0.6539 - val_root_mean_squared_error: 0.8086\n",
      "1/1 [==============================] - 0s 281ms/step\n",
      "INFO:tensorflow:Assets written to: C:\\Users\\tolya\\AppData\\Local\\Temp\\tmpsiv7xqb7\\model\\data\\model\\assets\n"
     ]
    },
    {
     "name": "stderr",
     "output_type": "stream",
     "text": [
      "INFO:tensorflow:Assets written to: C:\\Users\\tolya\\AppData\\Local\\Temp\\tmpsiv7xqb7\\model\\data\\model\\assets\n",
      "2023/10/24 13:36:19 WARNING mlflow.utils.autologging_utils: MLflow autologging encountered a warning: \"c:\\Users\\tolya\\AppData\\Local\\Programs\\Python\\Python311\\Lib\\site-packages\\_distutils_hack\\__init__.py:33: UserWarning: Setuptools is replacing distutils.\"\n"
     ]
    }
   ],
   "source": [
    "mlflow.set_experiment(experiment_name='Simple_RNN')\n",
    "\n",
    "with mlflow.start_run(run_name='keras_2'):\n",
    "    mlflow.keras.autolog()\n",
    "    result = model.fit(X_train, y_train, batch_size=64, epochs=15, validation_data=(X_test, y_test), shuffle=False)"
   ]
  },
  {
   "cell_type": "code",
   "execution_count": 8,
   "metadata": {},
   "outputs": [],
   "source": [
    "def northern_lights(model, data, day=7):\n",
    "    '''\n",
    "    Предсказывает kp индекс на несколько дней вперёд \n",
    "    '''\n",
    "    n_sample = day*8 \n",
    "    df = data.tail(inp_chars).copy()\n",
    "    \n",
    "    for _ in range(n_sample):\n",
    "        features = np.array(df.tail(inp_chars)).reshape(-1, inp_chars, 1)\n",
    "        answer = model.predict(features, verbose=0).reshape(-1)\n",
    "        df_2 = pd.DataFrame({'kp': answer}, index=df.tail(1).index + pd.DateOffset(hours=3))\n",
    "        df = pd.concat([df, df_2], axis=0)\n",
    "\n",
    "    return df"
   ]
  },
  {
   "cell_type": "code",
   "execution_count": 9,
   "metadata": {},
   "outputs": [],
   "source": [
    "test_answer = northern_lights(model, df)"
   ]
  },
  {
   "cell_type": "code",
   "execution_count": 10,
   "metadata": {},
   "outputs": [
    {
     "data": {
      "text/plain": [
       "<AxesSubplot: xlabel='datetime'>"
      ]
     },
     "execution_count": 10,
     "metadata": {},
     "output_type": "execute_result"
    },
    {
     "data": {
      "image/png": "[encoded data removed]",
      "text/plain": [
       "<Figure size 1700x700 with 1 Axes>"
      ]
     },
     "metadata": {},
     "output_type": "display_data"
    }
   ],
   "source": [
    "test_answer.iloc[-56:].plot(figsize=(17,7))"
   ]
  }
 ],
 "metadata": {
  "kernelspec": {
   "display_name": "data",
   "language": "python",
   "name": "python3"
  },
  "language_info": {
   "codemirror_mode": {
    "name": "ipython",
    "version": 3
   },
   "file_extension": ".py",
   "mimetype": "text/x-python",
   "name": "python",
   "nbconvert_exporter": "python",
   "pygments_lexer": "ipython3",
   "version": "3.11.0"
  }
 },
 "nbformat": 4,
 "nbformat_minor": 2
}
